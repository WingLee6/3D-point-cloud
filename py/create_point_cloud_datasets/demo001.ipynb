{
 "cells": [
  {
   "cell_type": "code",
   "execution_count": 2,
   "metadata": {},
   "outputs": [
    {
     "name": "stdout",
     "output_type": "stream",
     "text": [
      "\u001b[1;33m[Open3D WARNING] GLFW Error: Cocoa: Failed to find service port for display\u001b[0;m\n"
     ]
    }
   ],
   "source": [
    "import numpy as np\n",
    "import open3d as o3d\n",
    "\n",
    "def read_off_file(file_path):\n",
    "    \"\"\"从 OFF 文件中读取点云数据\"\"\"\n",
    "    with open(file_path, 'r') as file:\n",
    "        lines = file.readlines()\n",
    "    \n",
    "    # 读取点数和面数\n",
    "    header = lines[1].split()\n",
    "    num_points = int(header[0])\n",
    "    \n",
    "    # 读取点坐标\n",
    "    points = []\n",
    "    for line in lines[2:2+num_points]:\n",
    "        point = list(map(float, line.strip().split()))\n",
    "        points.append(point)\n",
    "    \n",
    "    return np.array(points)\n",
    "\n",
    "def main():\n",
    "    # 点云文件路径\n",
    "    file_path = './datasets/ModelNet40/airplane/test/airplane_0627.off'\n",
    "\n",
    "    # 从 OFF 文件中读取点云数据\n",
    "    points = read_off_file(file_path)\n",
    "\n",
    "    # 创建 Open3D 点云对象\n",
    "    point_cloud = o3d.geometry.PointCloud()\n",
    "    point_cloud.points = o3d.utility.Vector3dVector(points)\n",
    "\n",
    "    # 显示点云数据\n",
    "    o3d.visualization.draw_geometries([point_cloud], window_name='Point Cloud')\n",
    "\n",
    "if __name__ == \"__main__\":\n",
    "    main()\n"
   ]
  },
  {
   "cell_type": "code",
   "execution_count": 5,
   "metadata": {},
   "outputs": [
    {
     "name": "stdout",
     "output_type": "stream",
     "text": [
      "PointCloud with 938 points.\n",
      "\u001b[1;33m[Open3D WARNING] GLFW Error: Cocoa: Failed to find service port for display\u001b[0;m\n"
     ]
    }
   ],
   "source": [
    "pcd = o3d.io.read_point_cloud(\"output_point_cloud.ply\")\n",
    "print(pcd)\n",
    "o3d.visualization.draw_geometries([pcd])"
   ]
  },
  {
   "cell_type": "code",
   "execution_count": 7,
   "metadata": {},
   "outputs": [
    {
     "name": "stdout",
     "output_type": "stream",
     "text": [
      "\u001b[1;33m[Open3D WARNING] GLFW Error: Cocoa: Failed to find service port for display\u001b[0;m\n"
     ]
    },
    {
     "ename": "",
     "evalue": "",
     "output_type": "error",
     "traceback": [
      "\u001b[1;31m在当前单元格或上一个单元格中执行代码时 Kernel 崩溃。\n",
      "\u001b[1;31m请查看单元格中的代码，以确定故障的可能原因。\n",
      "\u001b[1;31m单击<a href='https://aka.ms/vscodeJupyterKernelCrash'>此处</a>了解详细信息。\n",
      "\u001b[1;31m有关更多详细信息，请查看 Jupyter <a href='command:jupyter.viewOutput'>log</a>。"
     ]
    }
   ],
   "source": [
    "import numpy as np\n",
    "import open3d as o3d\n",
    "\n",
    "def read_off_file(file_path):\n",
    "    \"\"\"从 OFF 文件中读取点云数据\"\"\"\n",
    "    with open(file_path, 'r') as file:\n",
    "        lines = file.readlines()\n",
    "    \n",
    "    # 读取点数和面数\n",
    "    header = lines[1].split()\n",
    "    num_points = int(header[0])\n",
    "    \n",
    "    # 读取点坐标\n",
    "    points = []\n",
    "    for line in lines[2:2+num_points]:\n",
    "        point = list(map(float, line.strip().split()))\n",
    "        points.append(point)\n",
    "    \n",
    "    return np.array(points)\n",
    "\n",
    "def main():\n",
    "    # 点云文件路径\n",
    "    file_path = './datasets/ModelNet40/airplane/train/airplane_0001.off'\n",
    "\n",
    "    # 从 OFF 文件中读取点云数据\n",
    "    points = read_off_file(file_path)\n",
    "\n",
    "    # 创建 Open3D 点云对象\n",
    "    point_cloud = o3d.geometry.PointCloud()\n",
    "    point_cloud.points = o3d.utility.Vector3dVector(points)\n",
    "\n",
    "    # 计算法向量\n",
    "    point_cloud.estimate_normals(search_param=o3d.geometry.KDTreeSearchParamHybrid(radius=0.05, max_nn=30))\n",
    "\n",
    "    # 可视化点云及其法向量\n",
    "    o3d.visualization.draw_geometries([point_cloud],\n",
    "                                      point_show_normal=True,  # 显示法向量\n",
    "                                      window_name='Point Cloud with Normals')\n",
    "\n",
    "if __name__ == \"__main__\":\n",
    "    main()\n"
   ]
  },
  {
   "cell_type": "code",
   "execution_count": null,
   "metadata": {},
   "outputs": [],
   "source": []
  }
 ],
 "metadata": {
  "kernelspec": {
   "display_name": "py39for3D",
   "language": "python",
   "name": "python3"
  },
  "language_info": {
   "codemirror_mode": {
    "name": "ipython",
    "version": 3
   },
   "file_extension": ".py",
   "mimetype": "text/x-python",
   "name": "python",
   "nbconvert_exporter": "python",
   "pygments_lexer": "ipython3",
   "version": "3.9.19"
  }
 },
 "nbformat": 4,
 "nbformat_minor": 2
}
