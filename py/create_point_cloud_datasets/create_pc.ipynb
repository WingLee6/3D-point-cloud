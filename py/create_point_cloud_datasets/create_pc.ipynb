{
 "cells": [
  {
   "cell_type": "code",
   "execution_count": 2,
   "metadata": {},
   "outputs": [],
   "source": [
    "import open3d as o3d\n",
    "import numpy as np"
   ]
  },
  {
   "cell_type": "code",
   "execution_count": 3,
   "metadata": {},
   "outputs": [
    {
     "name": "stdout",
     "output_type": "stream",
     "text": [
      "\u001b[1;33m[Open3D WARNING] GLFW Error: Cocoa: Failed to find service port for display\u001b[0;m\n"
     ]
    },
    {
     "data": {
      "text/plain": [
       "True"
      ]
     },
     "execution_count": 3,
     "metadata": {},
     "output_type": "execute_result"
    },
    {
     "ename": "",
     "evalue": "",
     "output_type": "error",
     "traceback": [
      "\u001b[1;31m在当前单元格或上一个单元格中执行代码时 Kernel 崩溃。\n",
      "\u001b[1;31m请查看单元格中的代码，以确定故障的可能原因。\n",
      "\u001b[1;31m单击<a href='https://aka.ms/vscodeJupyterKernelCrash'>此处</a>了解详细信息。\n",
      "\u001b[1;31m有关更多详细信息，请查看 Jupyter <a href='command:jupyter.viewOutput'>log</a>。"
     ]
    }
   ],
   "source": [
    "# 创建一个包含随机点的点云\n",
    "points = np.random.rand(1000, 3)  # 生成1000个随机点 (x, y, z)\n",
    "point_cloud = o3d.geometry.PointCloud()\n",
    "point_cloud.points = o3d.utility.Vector3dVector(points)\n",
    "\n",
    "# 体素下采样\n",
    "downsampled_point_cloud = point_cloud.voxel_down_sample(voxel_size=0.05)\n",
    "\n",
    "# 计算法向量\n",
    "downsampled_point_cloud.estimate_normals(search_param=o3d.geometry.KDTreeSearchParamHybrid(\n",
    "    radius=0.1, max_nn=30))\n",
    "\n",
    "# 显示下采样后的点云\n",
    "o3d.visualization.draw_geometries([downsampled_point_cloud])\n",
    "\n",
    "# 保存处理后的点云为 PLY 文件\n",
    "o3d.io.write_point_cloud(\"output_point_cloud.ply\", downsampled_point_cloud)\n",
    "\n",
    "# 或者保存为 PCD 文件\n",
    "o3d.io.write_point_cloud(\"output_point_cloud.pcd\", downsampled_point_cloud)\n"
   ]
  }
 ],
 "metadata": {
  "kernelspec": {
   "display_name": "py39for3D",
   "language": "python",
   "name": "python3"
  },
  "language_info": {
   "codemirror_mode": {
    "name": "ipython",
    "version": 3
   },
   "file_extension": ".py",
   "mimetype": "text/x-python",
   "name": "python",
   "nbconvert_exporter": "python",
   "pygments_lexer": "ipython3",
   "version": "3.9.19"
  }
 },
 "nbformat": 4,
 "nbformat_minor": 2
}
