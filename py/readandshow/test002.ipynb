{
 "cells": [
  {
   "cell_type": "code",
   "execution_count": 1,
   "metadata": {},
   "outputs": [
    {
     "data": {
      "text/plain": [
       "(array([[0.31378343, 0.10165687, 0.36731386],\n",
       "        [0.21030833, 0.39280934, 0.76515543],\n",
       "        [0.27138738, 0.15012431, 0.92984416],\n",
       "        [0.32789926, 0.13637809, 0.84382113],\n",
       "        [0.81649615, 0.733697  , 0.23421937]]),\n",
       " array([[0.01797268, 0.84021108, 0.83229525],\n",
       "        [0.88781279, 0.73559102, 0.40691991],\n",
       "        [0.37302604, 0.15061784, 0.80560531],\n",
       "        [0.01668109, 0.57191427, 0.90494864],\n",
       "        [0.83069144, 0.95554411, 0.82059002]]))"
      ]
     },
     "execution_count": 1,
     "metadata": {},
     "output_type": "execute_result"
    }
   ],
   "source": [
    "import numpy as np\n",
    "\n",
    "# 生成随机点云数据\n",
    "num_points = 1000\n",
    "points = np.random.rand(num_points, 3)  # 随机生成 (x, y, z) 坐标\n",
    "colors = np.random.rand(num_points, 3)  # 随机生成 (r, g, b) 颜色\n",
    "\n",
    "# 打印部分数据以查看\n",
    "points[:5], colors[:5]\n"
   ]
  },
  {
   "cell_type": "code",
   "execution_count": 2,
   "metadata": {},
   "outputs": [
    {
     "name": "stderr",
     "output_type": "stream",
     "text": [
      "/opt/anaconda3/envs/py312for3D/lib/python3.12/site-packages/pythreejs/traits.py:257: UserWarning: 64-bit data types not supported for WebGL data, casting to 32-bit.\n",
      "  warnings.warn('64-bit data types not supported for WebGL '\n"
     ]
    },
    {
     "data": {
      "application/vnd.jupyter.widget-view+json": {
       "model_id": "7e26fb321c354606b8bfba273b1198d6",
       "version_major": 2,
       "version_minor": 0
      },
      "text/plain": [
       "Renderer(camera=PerspectiveCamera(aspect=1.3333333333333333, position=(1.0, 1.0, 2.0), projectionMatrix=(1.0, …"
      ]
     },
     "metadata": {},
     "output_type": "display_data"
    }
   ],
   "source": [
    "from pythreejs import BufferGeometry, BufferAttribute, Points, PointsMaterial, Scene, PerspectiveCamera, Renderer, OrbitControls\n",
    "from IPython.display import display\n",
    "\n",
    "# 创建点云几何体\n",
    "geometry = BufferGeometry(attributes={\n",
    "    'position': BufferAttribute(points, normalized=False),\n",
    "    'color': BufferAttribute(colors, normalized=False)\n",
    "})\n",
    "\n",
    "# 创建材质\n",
    "material = PointsMaterial(vertexColors='VertexColors', size=0.1)\n",
    "\n",
    "# 创建点云对象\n",
    "point_cloud = Points(geometry=geometry, material=material)\n",
    "\n",
    "# 设置场景和相机\n",
    "camera = PerspectiveCamera(position=[1, 1, 2], aspect=800/600)\n",
    "scene = Scene(children=[point_cloud, camera])\n",
    "\n",
    "# 创建渲染器并显示\n",
    "renderer = Renderer(camera=camera, scene=scene, controls=[OrbitControls(controlling=camera)], width=800, height=600)\n",
    "display(renderer)\n"
   ]
  }
 ],
 "metadata": {
  "kernelspec": {
   "display_name": "py312for3D",
   "language": "python",
   "name": "python3"
  },
  "language_info": {
   "codemirror_mode": {
    "name": "ipython",
    "version": 3
   },
   "file_extension": ".py",
   "mimetype": "text/x-python",
   "name": "python",
   "nbconvert_exporter": "python",
   "pygments_lexer": "ipython3",
   "version": "3.12.5"
  }
 },
 "nbformat": 4,
 "nbformat_minor": 2
}
