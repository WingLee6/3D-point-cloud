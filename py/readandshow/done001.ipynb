{
 "cells": [
  {
   "cell_type": "code",
   "execution_count": 1,
   "metadata": {},
   "outputs": [],
   "source": [
    "import open3d as o3d\n",
    "import numpy as np\n",
    "import pythreejs as p3\n",
    "from IPython.display import display"
   ]
  },
  {
   "cell_type": "markdown",
   "metadata": {},
   "source": [
    "# 一. 读取文件函数"
   ]
  },
  {
   "cell_type": "code",
   "execution_count": 2,
   "metadata": {},
   "outputs": [],
   "source": [
    "from pathlib import Path\n",
    "import numpy as np\n",
    "import open3d as o3d\n",
    "\n",
    "def load_point_cloud(file_path: str) -> dict:\n",
    "    \"\"\"\n",
    "    加载点云数据，并返回一个包含点云及相关信息的字典。\n",
    "\n",
    "    支持的文件格式包括：\n",
    "    - .ply: Polygon File Format\n",
    "    - .pcd: Point Cloud Data\n",
    "    - .off: Object File Format\n",
    "    \n",
    "    参数:\n",
    "    - file_path (str): 点云文件的路径。\n",
    "\n",
    "    返回:\n",
    "    - dict: 包含以下键的字典：\n",
    "        - \"points\" (np.ndarray): 点云坐标数据，形状为 (n, 3)，表示点的 (x, y, z) 坐标。\n",
    "        - \"colors\" (np.ndarray or None): RGB 颜色数据，形状为 (n, 3)，表示每个点的 (r, g, b) 颜色值。若文件不包含颜色数据，则为 None。\n",
    "        - \"normals\" (np.ndarray or None): 法向量数据，形状为 (n, 3)，表示每个点的法向量 (nx, ny, nz)。若文件不包含法向量数据，则为 None。\n",
    "        - \"intensity\" (np.ndarray or None): 强度数据，形状为 (n, 1)，表示每个点的强度值（主要用于激光雷达数据）。若文件不包含强度数据，则为 None。\n",
    "        - \"faces\" (np.ndarray or None): 面数据，形状为 (m, k)，表示面片的顶点索引，其中 m 是面片数量，k 是顶点数量（通常为 3 或 4）。若文件不包含面数据，则为 None。\n",
    "\n",
    "    异常:\n",
    "    - FileNotFoundError: 如果文件不存在，则抛出此异常。\n",
    "    - ValueError: 如果文件格式不受支持，则抛出此异常。\n",
    "\n",
    "    示例:\n",
    "    ```python\n",
    "    point_cloud_data = load_point_cloud('example.ply')\n",
    "    points = point_cloud_data[\"points\"]\n",
    "    colors = point_cloud_data[\"colors\"]\n",
    "    normals = point_cloud_data[\"normals\"]\n",
    "    faces = point_cloud_data[\"faces\"]\n",
    "    ```\n",
    "\n",
    "    支持的文件格式说明:\n",
    "    - `.ply`: 可存储点云的坐标、颜色和法向量信息，支持 ASCII 和二进制两种编码方式。该函数会尝试读取所有相关数据。\n",
    "    - `.pcd`: 点云库（PCL）专用格式，可能包含点云的坐标、颜色、法向量以及强度数据。函数会根据文件内容读取相关数据。\n",
    "    - `.off`: 用于几何模型，通常包含顶点和面片信息。该函数会读取点坐标和面数据，但通常不包含颜色和法向量信息。\n",
    "\n",
    "    注意事项:\n",
    "    - 如果文件中不存在某些数据（如颜色或法向量），则对应的返回值将为 None。\n",
    "    - 对 `.off` 文件，函数将解析文件头以确定顶点和面片的数量，并返回相应数据。\n",
    "    - 函数当前未实现对 `.pcd` 文件中的强度数据读取，若有需要可进行扩展。\n",
    "\n",
    "    潜在扩展:\n",
    "    - 可扩展以支持其他点云文件格式（如 `.xyz`, `.las`）。\n",
    "    - 可实现对强度数据的支持，以便更好地处理激光雷达数据。\n",
    "    \"\"\"\n",
    "\n",
    "    file_path = Path(file_path)\n",
    "    \n",
    "    # 检查文件是否存在\n",
    "    if not file_path.exists():\n",
    "        raise FileNotFoundError(f\"文件 '{file_path}' 不存在。\")\n",
    "\n",
    "    point_cloud_data = {\n",
    "        \"points\": None,\n",
    "        \"colors\": None,\n",
    "        \"normals\": None,\n",
    "        \"intensity\": None,\n",
    "        \"faces\": None,\n",
    "    }\n",
    "\n",
    "    # 处理 .ply 和 .pcd 格式\n",
    "    if file_path.suffix.lower() in ['.ply', '.pcd']:\n",
    "        point_cloud = o3d.io.read_point_cloud(str(file_path))\n",
    "        point_cloud_data[\"points\"] = np.asarray(point_cloud.points)\n",
    "\n",
    "        # 如果文件包含颜色数据，则读取；否则为 None\n",
    "        point_cloud_data[\"colors\"] = (\n",
    "            np.asarray(point_cloud.colors) if point_cloud.has_colors() else None\n",
    "        )\n",
    "        # 如果文件包含法向量数据，则读取；否则为 None\n",
    "        point_cloud_data[\"normals\"] = (\n",
    "            np.asarray(point_cloud.normals) if point_cloud.has_normals() else None\n",
    "        )\n",
    "        # 目前不处理强度数据\n",
    "        point_cloud_data[\"intensity\"] = None\n",
    "\n",
    "    # 处理 .off 格式\n",
    "    elif file_path.suffix.lower() == '.off':\n",
    "        with open(file_path, 'r') as file:\n",
    "            lines = file.readlines()\n",
    "\n",
    "        # 解析文件头部信息\n",
    "        header_line = lines[0].strip()\n",
    "        if header_line.startswith(\"OFF\"):\n",
    "            header_info = header_line[3:].strip()\n",
    "            start_line = 2 if not header_info else 1\n",
    "            if not header_info:\n",
    "                header_info = lines[1].strip()\n",
    "        else:\n",
    "            header_info = header_line\n",
    "            start_line = 1\n",
    "\n",
    "        # 解析点和面片的数量\n",
    "        header_values = header_info.split()\n",
    "        num_points = int(header_values[0])\n",
    "        num_faces = int(header_values[1]) if len(header_values) > 1 else 0\n",
    "\n",
    "        # 读取点数据\n",
    "        points = [\n",
    "            list(map(float, line.strip().split()[:3]))\n",
    "            for line in lines[start_line:start_line + num_points]\n",
    "        ]\n",
    "        point_cloud_data[\"points\"] = np.array(points)\n",
    "\n",
    "        # OFF 文件通常不包含颜色和法向量数据\n",
    "        point_cloud_data[\"colors\"] = None\n",
    "        point_cloud_data[\"normals\"] = None\n",
    "\n",
    "        # 读取面片数据，如果存在\n",
    "        faces = [\n",
    "            list(map(int, line.strip().split()[1:]))\n",
    "            for line in lines[start_line + num_points:start_line + num_faces]\n",
    "        ] if num_faces > 0 else None\n",
    "\n",
    "        point_cloud_data[\"faces\"] = np.array(faces) if faces else None\n",
    "\n",
    "    else:\n",
    "        raise ValueError(f\"不支持的文件格式: {file_path.suffix}\")\n",
    "\n",
    "    return point_cloud_data\n"
   ]
  },
  {
   "cell_type": "markdown",
   "metadata": {},
   "source": [
    "## 测试: 读取ply文件"
   ]
  },
  {
   "cell_type": "code",
   "execution_count": 3,
   "metadata": {},
   "outputs": [
    {
     "data": {
      "text/plain": [
       "(array([[-3.13867 ,  1.92578 , -4.46484 ],\n",
       "        [ 0.340332,  0.41626 , -0.965332],\n",
       "        [ 0.342285,  0.41626 , -0.965332],\n",
       "        ...,\n",
       "        [ 0.546387, -0.592773, -1.23145 ],\n",
       "        [ 0.549316, -0.593262, -1.23242 ],\n",
       "        [ 0.618652, -0.583008, -1.21094 ]]),\n",
       " array([[0.07843137, 0.0745098 , 0.09019608],\n",
       "        [0.02352941, 0.02352941, 0.03921569],\n",
       "        [0.04313725, 0.08627451, 0.12941176],\n",
       "        ...,\n",
       "        [0.76862745, 0.73333333, 0.69803922],\n",
       "        [0.76078431, 0.7254902 , 0.69019608],\n",
       "        [0.94509804, 0.97254902, 0.94117647]]),\n",
       " array([[ 0.       ,  0.       ,  0.       ],\n",
       "        [-0.113406 , -0.405021 ,  0.907247 ],\n",
       "        [-0.0923855, -0.174506 ,  0.980313 ],\n",
       "        ...,\n",
       "        [-0.117724 , -0.761743 ,  0.637094 ],\n",
       "        [ 0.508863 , -0.424052 ,  0.749159 ],\n",
       "        [ 0.       ,  0.       ,  0.       ]]),\n",
       " None,\n",
       " None)"
      ]
     },
     "execution_count": 3,
     "metadata": {},
     "output_type": "execute_result"
    }
   ],
   "source": [
    "point_cloud_data = load_point_cloud('./pointcloud_ply2.ply')\n",
    "points = point_cloud_data[\"points\"]\n",
    "colors = point_cloud_data[\"colors\"]\n",
    "normals = point_cloud_data[\"normals\"]\n",
    "intensity = point_cloud_data[\"intensity\"]\n",
    "faces = point_cloud_data[\"faces\"]\n",
    "points, colors, normals, intensity, faces"
   ]
  },
  {
   "cell_type": "markdown",
   "metadata": {},
   "source": [
    "## 测试: 读取pcd文件"
   ]
  },
  {
   "cell_type": "code",
   "execution_count": 4,
   "metadata": {},
   "outputs": [
    {
     "data": {
      "text/plain": [
       "(array([[0.19898835, 0.87342489, 0.7295298 ],\n",
       "        [0.69468653, 0.3791883 , 0.56809676],\n",
       "        [0.79038161, 0.1627194 , 0.85879254],\n",
       "        ...,\n",
       "        [0.52783078, 0.75604928, 0.56764054],\n",
       "        [0.87580723, 0.7466197 , 0.47105172],\n",
       "        [0.72403687, 0.44701383, 0.16876356]]),\n",
       " None,\n",
       " array([[-0.64224899, -0.7580561 , -0.11343355],\n",
       "        [ 0.04559249, -0.13190033, -0.99021393],\n",
       "        [ 0.20897649, -0.47211301,  0.85641003],\n",
       "        ...,\n",
       "        [ 0.4095667 , -0.87872922, -0.24513267],\n",
       "        [ 0.99671918,  0.07877199,  0.01859757],\n",
       "        [ 0.84116781,  0.40521619, -0.35810137]]),\n",
       " None,\n",
       " None)"
      ]
     },
     "execution_count": 4,
     "metadata": {},
     "output_type": "execute_result"
    }
   ],
   "source": [
    "point_cloud_data = load_point_cloud('./pointcloud_pcd1.pcd')\n",
    "points = point_cloud_data[\"points\"]\n",
    "colors = point_cloud_data[\"colors\"]\n",
    "normals = point_cloud_data[\"normals\"]\n",
    "intensity = point_cloud_data[\"intensity\"]\n",
    "faces = point_cloud_data[\"faces\"]\n",
    "points, colors, normals, intensity, faces"
   ]
  },
  {
   "cell_type": "markdown",
   "metadata": {},
   "source": [
    "## 测试: 读取off文件"
   ]
  },
  {
   "cell_type": "code",
   "execution_count": 5,
   "metadata": {},
   "outputs": [
    {
     "data": {
      "text/plain": [
       "(array([[-13.16665 ,  37.190785,   5.729   ],\n",
       "        [ -8.10785 ,  33.802885, -11.91534 ],\n",
       "        [-13.16665 ,  29.120185, -11.91534 ],\n",
       "        ...,\n",
       "        [  0.43325 ,  36.703485,  11.7198  ],\n",
       "        [  0.44075 ,  36.963785,  11.5295  ],\n",
       "        [  0.41405 ,  36.041285,  10.813   ]]),\n",
       " None,\n",
       " None,\n",
       " None,\n",
       " array([[  0,   1,   2],\n",
       "        [  0,   2,   3],\n",
       "        [  4,   1,   0],\n",
       "        [  5,   2,   1],\n",
       "        [  2,   6,   3],\n",
       "        [  0,   3,   7],\n",
       "        [  4,   8,   1],\n",
       "        [  9,  10,  11],\n",
       "        [ 10,   9,  12],\n",
       "        [ 12,   9,  13],\n",
       "        [ 12,  13,  14],\n",
       "        [ 14,  13,  15],\n",
       "        [ 15,  13,  16],\n",
       "        [ 15,  16,  17],\n",
       "        [ 17,  16,  18],\n",
       "        [ 18,  16,  19],\n",
       "        [ 18,  19,  20],\n",
       "        [ 20,  19,  21],\n",
       "        [ 21,  19,  22],\n",
       "        [ 21,  22,  23],\n",
       "        [ 23,  22,  24],\n",
       "        [ 23,  24,  25],\n",
       "        [ 25,  24,  26],\n",
       "        [ 26,  24,  27],\n",
       "        [ 26,  27,  28],\n",
       "        [ 28,  27,  29],\n",
       "        [ 28,  29,  30],\n",
       "        [ 30,  29,  31],\n",
       "        [ 31,  29,  32],\n",
       "        [ 31,  32,  33],\n",
       "        [ 33,  32,  34],\n",
       "        [ 14,  35,  36],\n",
       "        [ 35,  14,  15],\n",
       "        [ 36,  35,  37],\n",
       "        [ 36,  37,  38],\n",
       "        [ 36,  38,  39],\n",
       "        [ 39,  38,  40],\n",
       "        [ 39,  40,  41],\n",
       "        [ 39,  41,  42],\n",
       "        [ 42,  41,  43],\n",
       "        [ 42,  43,  44],\n",
       "        [ 44,  43,  45],\n",
       "        [ 44,  45,  46],\n",
       "        [ 44,  46,  47],\n",
       "        [ 47,  46,  48],\n",
       "        [ 47,  48,  49],\n",
       "        [ 49,  48,  50],\n",
       "        [ 49,  50,  51],\n",
       "        [ 49,  51,  52],\n",
       "        [ 52,  51,  34],\n",
       "        [ 52,  34,  32],\n",
       "        [ 52,  32,  53],\n",
       "        [ 52,  53,  54],\n",
       "        [ 54,  53,  55],\n",
       "        [ 54,  55,  56],\n",
       "        [ 57,  58,  59],\n",
       "        [ 60,   5,   1],\n",
       "        [  5,  61,   2],\n",
       "        [ 61,   6,   2],\n",
       "        [  6,  62,   3],\n",
       "        [ 59,  58,  63],\n",
       "        [  7,   3,  64],\n",
       "        [ 65,   8,   4],\n",
       "        [ 60,   1,   8],\n",
       "        [  7,  64,  66],\n",
       "        [ 67,  68,  69],\n",
       "        [ 66,  70,  71],\n",
       "        [ 69,  68,  72],\n",
       "        [ 71,  73,  74],\n",
       "        [ 75,  76,  77],\n",
       "        [ 74,  78,  79],\n",
       "        [ 76,  80,  77],\n",
       "        [ 79,  81,  82],\n",
       "        [ 83,  84,  85],\n",
       "        [ 82,  86,  87],\n",
       "        [ 84,  88,  85],\n",
       "        [ 86,  89,  87],\n",
       "        [ 88,  90,  91],\n",
       "        [ 89,  92,  93],\n",
       "        [ 91,  90,  94],\n",
       "        [ 93,  95,  96],\n",
       "        [ 97,  98,  99],\n",
       "        [ 96, 100, 101],\n",
       "        [ 97, 102,  98],\n",
       "        [103, 104, 101],\n",
       "        [105, 106, 107],\n",
       "        [108, 109, 104],\n",
       "        [110, 106, 105],\n",
       "        [111, 112, 109],\n",
       "        [113, 114, 110],\n",
       "        [115, 116, 112],\n",
       "        [117, 118, 113],\n",
       "        [119, 116, 120],\n",
       "        [121, 118, 117],\n",
       "        [122, 119, 123],\n",
       "        [124, 125, 126],\n",
       "        [127, 122, 128],\n",
       "        [129, 130, 124],\n",
       "        [131, 127, 132],\n",
       "        [133, 130, 129],\n",
       "        [134, 131, 132],\n",
       "        [135, 133, 136],\n",
       "        [134, 137, 138],\n",
       "        [136, 139, 135],\n",
       "        [138, 140,  65],\n",
       "        [141, 142, 143],\n",
       "        [141, 143, 144],\n",
       "        [ 57, 145,  58],\n",
       "        [ 62,  64,   3],\n",
       "        [ 58, 146,  63],\n",
       "        [ 65, 140,   8],\n",
       "        [147,  60,   8],\n",
       "        [ 66,  64,  70],\n",
       "        [148,  67,  69],\n",
       "        [ 71,  70,  73],\n",
       "        [ 69,  72, 149],\n",
       "        [ 73,  78,  74],\n",
       "        [149,  72, 150],\n",
       "        [ 78,  81,  79],\n",
       "        [ 76, 151,  80],\n",
       "        [ 81,  86,  82],\n",
       "        [ 83,  85, 152],\n",
       "        [ 85,  88, 153],\n",
       "        [ 89,  86,  92],\n",
       "        [ 88,  91, 153],\n",
       "        [ 93,  92,  95],\n",
       "        [154,  91,  94],\n",
       "        [ 96,  95, 100],\n",
       "        [ 97,  99, 155],\n",
       "        [101, 100, 103],\n",
       "        [ 97, 156, 102],\n",
       "        [104, 103, 157],\n",
       "        [106, 158, 107],\n",
       "        [108, 104, 157],\n",
       "        [111, 109, 108],\n",
       "        [110, 159, 106],\n",
       "        [115, 112, 111],\n",
       "        [114, 159, 110],\n",
       "        [118, 114, 113],\n",
       "        [120, 116, 115],\n",
       "        [123, 119, 120],\n",
       "        [160, 118, 121],\n",
       "        [128, 122, 123],\n",
       "        [161, 124, 126],\n",
       "        [132, 127, 128],\n",
       "        [129, 124, 161],\n",
       "        [162, 133, 129],\n",
       "        [134, 132, 137],\n",
       "        [136, 133, 162],\n",
       "        [138, 137, 140],\n",
       "        [163, 139, 136],\n",
       "        [141, 164, 142],\n",
       "        [141, 144, 165],\n",
       "        [145, 166,  58],\n",
       "        [ 62, 167,  64],\n",
       "        [ 58, 168, 146],\n",
       "        [140, 147,   8],\n",
       "        [167,  70,  64],\n",
       "        [148,  69, 169],\n",
       "        [170,  73,  70],\n",
       "        [ 69, 149, 171],\n",
       "        [172,  78,  73],\n",
       "        [171, 149, 150],\n",
       "        [173,  81,  78],\n",
       "        [ 76, 174, 151],\n",
       "        [175,  86,  81],\n",
       "        [151, 174, 176],\n",
       "        [176, 177, 178],\n",
       "        [ 92,  86, 175],\n",
       "        [179, 180, 178],\n",
       "        [ 95,  92, 181],\n",
       "        [182, 155, 180],\n",
       "        [100,  95, 183],\n",
       "        [182,  97, 155],\n",
       "        [103, 100, 184],\n",
       "        [185, 156,  97],\n",
       "        [157, 103, 186],\n",
       "        [106, 187, 158],\n",
       "        [108, 157, 188],\n",
       "        [111, 108, 189],\n",
       "        [159, 190, 106],\n",
       "        [115, 111, 191],\n",
       "        [114, 190, 159],\n",
       "        [118, 192, 114],\n",
       "        [120, 115, 193],\n",
       "        [120, 194, 123],\n",
       "        [195, 118, 160],\n",
       "        [123, 196, 128],\n",
       "        [197, 161, 126],\n",
       "        [128, 198, 132],\n",
       "        [129, 161, 197],\n",
       "        [162, 129, 199],\n",
       "        [132, 198, 137],\n",
       "        [136, 162, 199],\n",
       "        [137, 200, 140],\n",
       "        [201, 163, 136],\n",
       "        [141, 202, 164],\n",
       "        [202, 141, 203],\n",
       "        [204, 141, 165],\n",
       "        [166, 205,  58],\n",
       "        [ 58, 205, 168],\n",
       "        [200, 147, 140],\n",
       "        [167, 170,  70],\n",
       "        [169,  69, 206],\n",
       "        [172,  73, 170],\n",
       "        [ 69, 171, 206],\n",
       "        [173,  78, 172],\n",
       "        [171, 150, 207],\n",
       "        [175,  81, 173],\n",
       "        [208, 174,  76],\n",
       "        [174, 177, 176],\n",
       "        [177, 179, 178],\n",
       "        [181,  92, 175],\n",
       "        [179, 209, 180],\n",
       "        [183,  95, 181],\n",
       "        [182, 180, 209],\n",
       "        [100, 183, 184],\n",
       "        [210,  97, 182],\n",
       "        [103, 184, 186],\n",
       "        [210, 185,  97],\n",
       "        [157, 186, 211],\n",
       "        [212, 187, 106],\n",
       "        [188, 157, 211],\n",
       "        [108, 188, 189],\n",
       "        [111, 189, 191],\n",
       "        [190, 212, 106],\n",
       "        [115, 191, 193],\n",
       "        [114, 192, 190],\n",
       "        [118, 213, 192],\n",
       "        [120, 193, 194],\n",
       "        [123, 194, 196],\n",
       "        [197, 126, 214],\n",
       "        [195, 213, 118],\n",
       "        [128, 196, 198],\n",
       "        [129, 197, 215],\n",
       "        [199, 129, 215],\n",
       "        [198, 200, 137],\n",
       "        [136, 199, 216],\n",
       "        [201, 136, 216],\n",
       "        [203, 141, 204],\n",
       "        [217, 202, 203],\n",
       "        [166, 218, 205],\n",
       "        [205, 219, 168],\n",
       "        [168, 220, 221],\n",
       "        [206, 171, 222],\n",
       "        [223, 224, 208],\n",
       "        [208, 224, 174],\n",
       "        [225, 177, 174],\n",
       "        [177, 226, 179],\n",
       "        [179, 227, 209],\n",
       "        [228, 229, 230],\n",
       "        [231, 230, 232]]))"
      ]
     },
     "execution_count": 5,
     "metadata": {},
     "output_type": "execute_result"
    }
   ],
   "source": [
    "point_cloud_data = load_point_cloud('./pointcloud_off1.off')\n",
    "points = point_cloud_data[\"points\"]\n",
    "colors = point_cloud_data[\"colors\"]\n",
    "normals = point_cloud_data[\"normals\"]\n",
    "intensity = point_cloud_data[\"intensity\"]\n",
    "faces = point_cloud_data[\"faces\"]\n",
    "points, colors, normals, intensity, faces"
   ]
  },
  {
   "cell_type": "markdown",
   "metadata": {},
   "source": [
    "## 测试: 读取off文件-2"
   ]
  },
  {
   "cell_type": "code",
   "execution_count": 6,
   "metadata": {},
   "outputs": [
    {
     "data": {
      "text/plain": [
       "(array([[674.887 , 788.632 ,  77.1512],\n",
       "        [674.887 , 785.054 ,  57.8897],\n",
       "        [674.887 , 775.461 ,  77.1512],\n",
       "        ...,\n",
       "        [514.332 , 627.344 , 109.772 ],\n",
       "        [513.556 , 677.904 , 113.016 ],\n",
       "        [513.556 , 627.294 , 109.769 ]]),\n",
       " None,\n",
       " None,\n",
       " None,\n",
       " array([[  0,   1,   2],\n",
       "        [  1,   0,   3],\n",
       "        [  0,   4,   3],\n",
       "        ...,\n",
       "        [483, 505, 497],\n",
       "        [508, 500, 509],\n",
       "        [501, 509, 500]]))"
      ]
     },
     "execution_count": 6,
     "metadata": {},
     "output_type": "execute_result"
    }
   ],
   "source": [
    "point_cloud_data = load_point_cloud('./pointcloud_off2.off')\n",
    "points = point_cloud_data[\"points\"]\n",
    "colors = point_cloud_data[\"colors\"]\n",
    "normals = point_cloud_data[\"normals\"]\n",
    "intensity = point_cloud_data[\"intensity\"]\n",
    "faces = point_cloud_data[\"faces\"]\n",
    "points, colors, normals, intensity, faces"
   ]
  },
  {
   "cell_type": "markdown",
   "metadata": {},
   "source": [
    "# 二. 显示点云数据"
   ]
  },
  {
   "cell_type": "code",
   "execution_count": 7,
   "metadata": {},
   "outputs": [],
   "source": [
    "from pathlib import Path\n",
    "import numpy as np\n",
    "import pythreejs as p3\n",
    "from IPython.display import display\n",
    "\n",
    "def render_point_cloud_with_axes(points_array: np.ndarray = None,\n",
    "                                 colors_array: np.ndarray = None,\n",
    "                                 normals_array: np.ndarray = None,\n",
    "                                 intensity_array: np.ndarray = None,\n",
    "                                 file_path: str = None, \n",
    "                                 point_size: float = 0.05, \n",
    "                                 axis_length: float = None, \n",
    "                                 canvas_dimensions: tuple = (400, 300),\n",
    "                                 point_color: str = '#00ff00',\n",
    "                                 max_points: int = None, \n",
    "                                 show_axes: bool = True,\n",
    "                                 show_light: bool = True):\n",
    "    \"\"\"\n",
    "    渲染点云数据并显示在 Jupyter Notebook 中，带有可选的坐标轴和光照。\n",
    "\n",
    "    参数:\n",
    "    - points_array (np.ndarray, optional): 点云数据数组，形状为 (n, 3)。如果提供，直接使用此数据进行渲染。\n",
    "    - file_path (str, optional): 点云文件路径。支持 .ply, .pcd, .off 文件格式。如果提供，将从文件加载点云数据。\n",
    "    - point_size (float, optional): 点的大小, 越大越清晰，默认为 0.05。\n",
    "    - axis_length (float, optional): 坐标轴的长度。默认根据点云数据自动计算为点云范围的一半。\n",
    "    - canvas_dimensions (tuple, optional): 渲染画布的尺寸 (宽度, 高度)，默认为 (400, 300)。\n",
    "    - point_color (str, optional): 点的颜色，使用 HTML 颜色表示，默认为绿色 '#00ff00'。\n",
    "    - max_points (int, optional): 最大渲染点数。若提供，且点云数据点数超过此值，将进行随机采样。若不提供，渲染全部点云数据。\n",
    "    - show_axes (bool, optional): 是否显示坐标轴，默认为 True。\n",
    "    - show_light (bool, optional): 是否启用光照，默认为 True。\n",
    "\n",
    "    返回:\n",
    "    - None: 函数会直接在 Jupyter Notebook 中渲染点云，不返回值。\n",
    "\n",
    "    异常:\n",
    "    - ValueError: 如果未提供 `points_array` 或 `file_path`，抛出此异常。\n",
    "    - TypeError: 如果 `points_array` 不是 numpy 数组，或 `canvas_dimensions` 格式不正确，抛出此异常。\n",
    "    - ValueError: 如果 `points_array` 是空的，或形状不为 (n, 3)，抛出此异常。\n",
    "\n",
    "    示例:\n",
    "    >>> render_point_cloud_with_axes(file_path=\"example.ply\", point_size=0.1, axis_length=2.0, canvas_dimensions=(600, 400))\n",
    "    >>> points_array = np.random.rand(100, 3)  # 生成 100 个随机点\n",
    "    >>> render_point_cloud_with_axes(points_array=points_array, point_size=0.1, axis_length=2.0, canvas_dimensions=(600, 400))\n",
    "    \"\"\"\n",
    "    \n",
    "\n",
    "    # 如果提供了 file_path，则从文件加载点云数据\n",
    "    if file_path:\n",
    "        point_cloud_data = load_point_cloud(file_path)\n",
    "        points_array = point_cloud_data[\"points\"]  # 仅提取点数据进行渲染\n",
    "        colors_array = point_cloud_data.get(\"colors\", None)  # 尝试提取颜色数据\n",
    "        normals_array = point_cloud_data.get(\"normals\", None)  # 尝试提取法向量数据\n",
    "        # intensity_array = point_cloud_data.get(\"intensity\", None)  # 尝试提取强度数据\n",
    "        # faces_array = point_cloud_data.get(\"faces\", None)  # 尝试提取强度数据\n",
    "    elif points_array is None:\n",
    "        raise ValueError(\"必须提供 points_array 或 file_path 之一。\")\n",
    "\n",
    "    # 验证 points_array 是否为 numpy 数组\n",
    "    if not isinstance(points_array, np.ndarray):\n",
    "        raise TypeError(\"points_array 应为 numpy 数组\")\n",
    "    if points_array.size == 0:\n",
    "        raise ValueError(\"points_array 为空\")\n",
    "    if points_array.shape[1] != 3:\n",
    "        raise ValueError(\"points_array 的形状应为 (n, 3)\")\n",
    "    if not (isinstance(canvas_dimensions, tuple) and len(canvas_dimensions) == 2 \n",
    "            and all(isinstance(dim, int) for dim in canvas_dimensions)):\n",
    "        raise TypeError(\"canvas_dimensions 应为包含两个整数的 tuple\")\n",
    "\n",
    "    # 数据采样（仅当 max_points 被指定时）\n",
    "    if max_points is not None and len(points_array) > max_points:\n",
    "        indices = np.random.choice(len(points_array), max_points, replace=False)\n",
    "        points_array = points_array[indices]\n",
    "\n",
    "    # 如果 axis_length 未指定，则根据点云范围自动计算\n",
    "    if axis_length is None:\n",
    "        axis_length = np.linalg.norm(np.ptp(points_array, axis=0)) * 0.5\n",
    "\n",
    "    canvas_width, canvas_height = canvas_dimensions\n",
    "\n",
    "    # 创建点云参数\n",
    "    attributes = {\n",
    "        'position': p3.BufferAttribute(points_array, normalized=False),\n",
    "    }\n",
    "\n",
    "    if colors_array is not None:\n",
    "        attributes['color'] = p3.BufferAttribute(colors_array, normalized=True)\n",
    "\n",
    "    if normals_array is not None:\n",
    "        attributes['normal'] = p3.BufferAttribute(normals_array, normalized=True)\n",
    "\n",
    "    \n",
    "    # 创建点云的几何和材质\n",
    "    geometry = p3.BufferGeometry(attributes=attributes)\n",
    "\n",
    "    material = p3.PointsMaterial(size=point_size, vertexColors='VertexColors')\n",
    "\n",
    "    point_cloud = p3.Points(geometry=geometry, material=material)\n",
    "\n",
    "    scene_children = [point_cloud]\n",
    "\n",
    "    # 如果指定显示坐标轴，则添加坐标轴\n",
    "    if show_axes:\n",
    "        axis_data = {\n",
    "            'positions': [\n",
    "                [0, 0, 0], [axis_length, 0, 0],  # X轴\n",
    "                [0, 0, 0], [0, axis_length, 0],  # Y轴\n",
    "                [0, 0, 0], [0, 0, axis_length]   # Z轴\n",
    "            ],\n",
    "            'colors': [\n",
    "                [1, 0, 0], [1, 0, 0],  # X轴为红色\n",
    "                [0, 1, 0], [0, 1, 0],  # Y轴为绿色\n",
    "                [0, 0, 1], [0, 0, 1]   # Z轴为蓝色\n",
    "            ]\n",
    "        }\n",
    "\n",
    "        axis_geometry = p3.BufferGeometry(\n",
    "            attributes={\n",
    "                'position': p3.BufferAttribute(np.array(axis_data['positions'], dtype=np.float32), normalized=False),\n",
    "                'color': p3.BufferAttribute(np.array(axis_data['colors'], dtype=np.float32), normalized=False)\n",
    "            }\n",
    "        )\n",
    "\n",
    "        axis_material = p3.LineBasicMaterial(vertexColors='VertexColors')\n",
    "        scene_children.append(p3.LineSegments(geometry=axis_geometry, material=axis_material))\n",
    "\n",
    "    # 如果指定显示光照，则添加光照\n",
    "    if show_light:\n",
    "        scene_children.append(p3.AmbientLight(color='#ffffff'))\n",
    "\n",
    "    # 创建场景并渲染\n",
    "    scene = p3.Scene(children=scene_children)\n",
    "    camera = p3.PerspectiveCamera(position=[0, 0, 3], fov=75, aspect=canvas_width/canvas_height)\n",
    "    renderer = p3.Renderer(camera=camera, scene=scene, controls=[p3.OrbitControls(controlling=camera)],\n",
    "                           width=canvas_width, height=canvas_height)\n",
    "\n",
    "    display(renderer)\n",
    "\n",
    "# 示例代码\n",
    "# render_point_cloud_with_axes(file_path=\"path/to/your/file.off\", point_size=0.1, axis_length=2.0, canvas_dimensions=(400, 300))\n",
    "# render_point_cloud_with_axes(points_array=np.random.rand(100, 3), point_size=0.1, axis_length=2.0, canvas_dimensions=(600, 400))\n"
   ]
  },
  {
   "cell_type": "markdown",
   "metadata": {},
   "source": [
    "## 测试: 模拟数据"
   ]
  },
  {
   "cell_type": "code",
   "execution_count": 8,
   "metadata": {},
   "outputs": [
    {
     "name": "stderr",
     "output_type": "stream",
     "text": [
      "/opt/anaconda3/envs/py312for3D/lib/python3.12/site-packages/pythreejs/traits.py:257: UserWarning: 64-bit data types not supported for WebGL data, casting to 32-bit.\n",
      "  warnings.warn('64-bit data types not supported for WebGL '\n"
     ]
    },
    {
     "data": {
      "application/vnd.jupyter.widget-view+json": {
       "model_id": "d8da8fd479d540db8baad7cc78845355",
       "version_major": 2,
       "version_minor": 0
      },
      "text/plain": [
       "Renderer(camera=PerspectiveCamera(aspect=2.0, fov=75.0, position=(0.0, 0.0, 3.0), projectionMatrix=(1.0, 0.0, …"
      ]
     },
     "metadata": {},
     "output_type": "display_data"
    }
   ],
   "source": [
    "# 生成随机点云数据\n",
    "num_points = 1000\n",
    "points = np.random.rand(num_points, 3)  # 随机生成 (x, y, z) 坐标\n",
    "colors = np.random.rand(num_points, 3)  # 随机生成 (r, g, b) 颜色\n",
    "\n",
    "render_point_cloud_with_axes(points_array=points, colors_array=colors, point_size=0.1, axis_length=2.0, canvas_dimensions=(600, 300))\n"
   ]
  },
  {
   "cell_type": "markdown",
   "metadata": {},
   "source": [
    "## 测试: 读取pcd文件并显示"
   ]
  },
  {
   "cell_type": "code",
   "execution_count": 9,
   "metadata": {},
   "outputs": [
    {
     "data": {
      "application/vnd.jupyter.widget-view+json": {
       "model_id": "6626f091fdd740c6a269c7152e1b2ffe",
       "version_major": 2,
       "version_minor": 0
      },
      "text/plain": [
       "Renderer(camera=PerspectiveCamera(aspect=2.0, fov=75.0, position=(0.0, 0.0, 3.0), projectionMatrix=(1.0, 0.0, …"
      ]
     },
     "metadata": {},
     "output_type": "display_data"
    }
   ],
   "source": [
    "render_point_cloud_with_axes(file_path=\"./pointcloud_pcd1.pcd\", point_size=0.1, canvas_dimensions=(600, 300))"
   ]
  },
  {
   "cell_type": "markdown",
   "metadata": {},
   "source": [
    "## 测试: 读取off文件并显示"
   ]
  },
  {
   "cell_type": "code",
   "execution_count": 10,
   "metadata": {},
   "outputs": [
    {
     "data": {
      "application/vnd.jupyter.widget-view+json": {
       "model_id": "6b894108abcf424b8aaa458ea5781c4c",
       "version_major": 2,
       "version_minor": 0
      },
      "text/plain": [
       "Renderer(camera=PerspectiveCamera(aspect=2.0, fov=75.0, position=(0.0, 0.0, 3.0), projectionMatrix=(1.0, 0.0, …"
      ]
     },
     "metadata": {},
     "output_type": "display_data"
    }
   ],
   "source": [
    "render_point_cloud_with_axes(file_path=\"./pointcloud_off1.off\", point_size=0.00000001, canvas_dimensions=(600, 300))"
   ]
  },
  {
   "cell_type": "markdown",
   "metadata": {},
   "source": [
    "## 测试: 读取ply文件并显示"
   ]
  },
  {
   "cell_type": "code",
   "execution_count": 11,
   "metadata": {},
   "outputs": [
    {
     "data": {
      "application/vnd.jupyter.widget-view+json": {
       "model_id": "66aba18a3ff74e82ac2db142a9f71a02",
       "version_major": 2,
       "version_minor": 0
      },
      "text/plain": [
       "Renderer(camera=PerspectiveCamera(aspect=2.25, fov=75.0, position=(0.0, 0.0, 3.0), projectionMatrix=(1.0, 0.0,…"
      ]
     },
     "metadata": {},
     "output_type": "display_data"
    }
   ],
   "source": [
    "render_point_cloud_with_axes(file_path=\"./pointcloud_ply1.ply\", point_size=0.0000001, canvas_dimensions=(900, 400), show_light=True)"
   ]
  },
  {
   "cell_type": "code",
   "execution_count": 12,
   "metadata": {},
   "outputs": [
    {
     "data": {
      "application/vnd.jupyter.widget-view+json": {
       "model_id": "7a6749b158a842ffb5e0cd5706030e5e",
       "version_major": 2,
       "version_minor": 0
      },
      "text/plain": [
       "Renderer(camera=PerspectiveCamera(aspect=1.5, fov=75.0, position=(0.0, 0.0, 3.0), projectionMatrix=(1.0, 0.0, …"
      ]
     },
     "metadata": {},
     "output_type": "display_data"
    }
   ],
   "source": [
    "render_point_cloud_with_axes(file_path=\"./pointcloud_ply2.ply\", point_size=0.00000000001, canvas_dimensions=(900, 600), show_light=True)"
   ]
  },
  {
   "cell_type": "code",
   "execution_count": 13,
   "metadata": {},
   "outputs": [
    {
     "data": {
      "application/vnd.jupyter.widget-view+json": {
       "model_id": "eb25278ff47b4315a43ee9da231b2c85",
       "version_major": 2,
       "version_minor": 0
      },
      "text/plain": [
       "Renderer(camera=PerspectiveCamera(aspect=2.0, fov=75.0, position=(0.0, 0.0, 3.0), projectionMatrix=(1.0, 0.0, …"
      ]
     },
     "metadata": {},
     "output_type": "display_data"
    }
   ],
   "source": [
    "render_point_cloud_with_axes(file_path=\"./pointcloud_ply3.ply\", point_size=0.00000000001, canvas_dimensions=(600, 300), show_light=True)\n",
    "# 没有颜色, 根据远近有颜色"
   ]
  },
  {
   "cell_type": "code",
   "execution_count": 14,
   "metadata": {},
   "outputs": [
    {
     "data": {
      "application/vnd.jupyter.widget-view+json": {
       "model_id": "2a9fa90d924c4a309b65d51c3f0ed6c8",
       "version_major": 2,
       "version_minor": 0
      },
      "text/plain": [
       "Renderer(camera=PerspectiveCamera(aspect=2.0, fov=75.0, position=(0.0, 0.0, 3.0), projectionMatrix=(1.0, 0.0, …"
      ]
     },
     "metadata": {},
     "output_type": "display_data"
    }
   ],
   "source": [
    "render_point_cloud_with_axes(file_path=\"./pointcloud_ply4.ply\", point_size=0.00000000001, canvas_dimensions=(600, 300), show_light=True)\n",
    "# 没有颜色, 根据远近有颜色"
   ]
  },
  {
   "cell_type": "markdown",
   "metadata": {},
   "source": [
    "# END\n"
   ]
  },
  {
   "cell_type": "markdown",
   "metadata": {},
   "source": [
    "# 常规"
   ]
  },
  {
   "cell_type": "code",
   "execution_count": 15,
   "metadata": {},
   "outputs": [
    {
     "name": "stdout",
     "output_type": "stream",
     "text": [
      "PointCloud with 253513 points.\n"
     ]
    }
   ],
   "source": [
    "import open3d as o3d\n",
    "\n",
    "# 读取PLY文件\n",
    "ply_file = \"./pointcloud_ply1.ply\"\n",
    "point_cloud = o3d.io.read_point_cloud(ply_file)\n",
    "\n",
    "# 打印点云数据\n",
    "print(point_cloud)\n",
    "# 可视化点云\n",
    "o3d.visualization.draw_geometries([point_cloud])\n",
    "\n",
    "# 保存可见表面点云为ply文件\n",
    "# o3d.io.write_point_cloud(\"visible_surface.ply\", point_cloud)"
   ]
  }
 ],
 "metadata": {
  "kernelspec": {
   "display_name": "py312for3D",
   "language": "python",
   "name": "python3"
  },
  "language_info": {
   "codemirror_mode": {
    "name": "ipython",
    "version": 3
   },
   "file_extension": ".py",
   "mimetype": "text/x-python",
   "name": "python",
   "nbconvert_exporter": "python",
   "pygments_lexer": "ipython3",
   "version": "3.12.5"
  }
 },
 "nbformat": 4,
 "nbformat_minor": 2
}
