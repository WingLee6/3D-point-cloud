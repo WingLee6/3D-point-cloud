{
 "cells": [
  {
   "cell_type": "code",
   "execution_count": 1,
   "metadata": {},
   "outputs": [],
   "source": [
    "import open3d as o3d\n",
    "import numpy as np\n",
    "import pythreejs as p3\n",
    "from IPython.display import display"
   ]
  },
  {
   "cell_type": "code",
   "execution_count": 2,
   "metadata": {},
   "outputs": [],
   "source": [
    "import os\n",
    "import sys\n",
    "# 获取当前Notebook所在目录\n",
    "current_dir = os.path.dirname(os.path.abspath('__file__'))\n",
    "\n",
    "# 构造自建库路径\n",
    "lib_path = os.path.join(current_dir, '../../utils_lee')\n",
    "# 将自建库路径添加到系统路径中\n",
    "sys.path.append(lib_path)\n",
    "\n",
    "# from image_utils import ImageUtils\n",
    "# from file_utils import FileUtils\n",
    "from point_cloud_utils import PointCloudUtils"
   ]
  },
  {
   "cell_type": "code",
   "execution_count": 3,
   "metadata": {},
   "outputs": [
    {
     "name": "stderr",
     "output_type": "stream",
     "text": [
      "/opt/anaconda3/envs/py312for3D/lib/python3.12/site-packages/pythreejs/traits.py:257: UserWarning: 64-bit data types not supported for WebGL data, casting to 32-bit.\n",
      "  warnings.warn('64-bit data types not supported for WebGL '\n"
     ]
    },
    {
     "data": {
      "application/vnd.jupyter.widget-view+json": {
       "model_id": "66a2e021ca5c41e09e3a2f7dcfb3120c",
       "version_major": 2,
       "version_minor": 0
      },
      "text/plain": [
       "Renderer(camera=PerspectiveCamera(aspect=2.25, fov=75.0, position=(0.0, 0.0, 3.0), projectionMatrix=(1.0, 0.0,…"
      ]
     },
     "metadata": {},
     "output_type": "display_data"
    }
   ],
   "source": [
    "PointCloudUtils.render_point_cloud_with_axes(file_path=\"./artifact19.ply\", point_size=0.0000001, canvas_dimensions=(900, 400), show_light=True)"
   ]
  },
  {
   "cell_type": "markdown",
   "metadata": {},
   "source": [
    "# 〇. 点云文件地址"
   ]
  },
  {
   "cell_type": "code",
   "execution_count": 6,
   "metadata": {},
   "outputs": [],
   "source": [
    "ply1_path = \"./artifact19.ply\"\n",
    "ply2_path = \"./bumpy_plane_test_4.ply\"\n",
    "off_path = \"./bookshelf_0574.off\""
   ]
  },
  {
   "cell_type": "markdown",
   "metadata": {},
   "source": [
    "# 一. 点云可视化\n",
    "`o3d.visualization.draw_geometries` \n",
    "\n",
    "## 基本用法\n",
    "\n",
    "```python\n",
    "o3d.visualization.draw_geometries([geometry0, geometry1, ...], window_name='Open3D', width=800, height=600, point_show_normal=False, mesh_show_wireframe=False, mesh_show_back_face=False)\n",
    "```\n",
    "\n",
    "## 参数说明\n",
    "| 参数名称 | 类型 | 描述 | 默认值 |\n",
    "| :--: | :--: | :--: | :--: |\n",
    "| geometries | list of `o3d.geometry.Geometry3D` | 包含要可视化的3D几何体的列表。可以是点云、网格等。 | 无（必须提供） |\n",
    "| window_name | str | 显示窗口的名称。 | 'Open3D' |\n",
    "| width | int | 窗口的宽度（以像素为单位）。 | 800 |\n",
    "| height | int | 窗口的高度（以像素为单位）。 | 600 |\n",
    "| point_show_normal | bool | 如果为True，则在点云中显示每个点的法线。 | False |\n",
    "| mesh_show_wireframe | bool | 如果为True，则在网格上绘制线框。 | False |\n",
    "| mesh_show_back_face | bool | 如果为True，则渲染网格的背面。 | False |"
   ]
  },
  {
   "cell_type": "code",
   "execution_count": 18,
   "metadata": {},
   "outputs": [
    {
     "name": "stdout",
     "output_type": "stream",
     "text": [
      "PointCloud with 187114 points.\n"
     ]
    }
   ],
   "source": [
    "import open3d as o3d\n",
    "\n",
    "# 读取PLY文件\n",
    "ply_file = ply1_path\n",
    "point_cloud = o3d.io.read_point_cloud(ply_file)\n",
    "\n",
    "# 打印点云数据\n",
    "print(point_cloud)\n",
    "# 可视化点云\n",
    "o3d.visualization.draw_geometries([point_cloud])\n",
    "\n",
    "# 保存可见表面点云为ply文件\n",
    "# o3d.io.write_point_cloud(\"visible_surface.ply\", point_cloud)"
   ]
  },
  {
   "cell_type": "code",
   "execution_count": 17,
   "metadata": {},
   "outputs": [
    {
     "ename": "TypeError",
     "evalue": "(): incompatible function arguments. The following argument types are supported:\n    1. (self: open3d.cpu.pybind.camera.PinholeCameraParameters, arg0: numpy.ndarray[numpy.float64[4, 4]]) -> None\n\nInvoked with: PinholeCameraParameters class.\nAccess its data via intrinsic and extrinsic., [[1 0 0 0],\n [0 1 0 0],\n [0 0 1 -3],\n [0 0 0 1]]\nTensor[shape={4, 4}, stride={4, 1}, Int64, CPU:0, 0x12a6f1710]",
     "output_type": "error",
     "traceback": [
      "\u001b[0;31m---------------------------------------------------------------------------\u001b[0m",
      "\u001b[0;31mTypeError\u001b[0m                                 Traceback (most recent call last)",
      "Cell \u001b[0;32mIn[17], line 22\u001b[0m\n\u001b[1;32m     19\u001b[0m param\u001b[38;5;241m.\u001b[39mintrinsic\u001b[38;5;241m.\u001b[39mset_intrinsics(width\u001b[38;5;241m=\u001b[39m\u001b[38;5;241m800\u001b[39m, height\u001b[38;5;241m=\u001b[39m\u001b[38;5;241m600\u001b[39m, fx\u001b[38;5;241m=\u001b[39m\u001b[38;5;241m400\u001b[39m, fy\u001b[38;5;241m=\u001b[39m\u001b[38;5;241m400\u001b[39m, cx\u001b[38;5;241m=\u001b[39m\u001b[38;5;241m400\u001b[39m, cy\u001b[38;5;241m=\u001b[39m\u001b[38;5;241m300\u001b[39m)\n\u001b[1;32m     21\u001b[0m \u001b[38;5;66;03m# 设置相机外参（例如，相机的位置和朝向）\u001b[39;00m\n\u001b[0;32m---> 22\u001b[0m \u001b[43mparam\u001b[49m\u001b[38;5;241;43m.\u001b[39;49m\u001b[43mextrinsic\u001b[49m \u001b[38;5;241m=\u001b[39m o3d\u001b[38;5;241m.\u001b[39mcore\u001b[38;5;241m.\u001b[39mTensor([[\u001b[38;5;241m1\u001b[39m, \u001b[38;5;241m0\u001b[39m, \u001b[38;5;241m0\u001b[39m, \u001b[38;5;241m0\u001b[39m], \n\u001b[1;32m     23\u001b[0m                                    [\u001b[38;5;241m0\u001b[39m, \u001b[38;5;241m1\u001b[39m, \u001b[38;5;241m0\u001b[39m, \u001b[38;5;241m0\u001b[39m], \n\u001b[1;32m     24\u001b[0m                                    [\u001b[38;5;241m0\u001b[39m, \u001b[38;5;241m0\u001b[39m, \u001b[38;5;241m1\u001b[39m, \u001b[38;5;241m-\u001b[39m\u001b[38;5;241m3\u001b[39m], \n\u001b[1;32m     25\u001b[0m                                    [\u001b[38;5;241m0\u001b[39m, \u001b[38;5;241m0\u001b[39m, \u001b[38;5;241m0\u001b[39m, \u001b[38;5;241m1\u001b[39m]])\n\u001b[1;32m     27\u001b[0m \u001b[38;5;66;03m# 应用新的相机参数\u001b[39;00m\n\u001b[1;32m     28\u001b[0m ctr\u001b[38;5;241m.\u001b[39mconvert_from_pinhole_camera_parameters(param)\n",
      "\u001b[0;31mTypeError\u001b[0m: (): incompatible function arguments. The following argument types are supported:\n    1. (self: open3d.cpu.pybind.camera.PinholeCameraParameters, arg0: numpy.ndarray[numpy.float64[4, 4]]) -> None\n\nInvoked with: PinholeCameraParameters class.\nAccess its data via intrinsic and extrinsic., [[1 0 0 0],\n [0 1 0 0],\n [0 0 1 -3],\n [0 0 0 1]]\nTensor[shape={4, 4}, stride={4, 1}, Int64, CPU:0, 0x12a6f1710]"
     ]
    }
   ],
   "source": [
    "import open3d as o3d\n",
    "\n",
    "# 创建一个点云\n",
    "pcd = o3d.geometry.PointCloud()\n",
    "pcd.points = o3d.utility.Vector3dVector([[0, 0, 0], [1, 0, 0], [0, 1, 0]])\n",
    "\n",
    "# 创建 Visualizer\n",
    "vis = o3d.visualization.Visualizer()\n",
    "vis.create_window()\n",
    "\n",
    "# 添加点云到 Visualizer\n",
    "vis.add_geometry(pcd)\n",
    "\n",
    "# 获取相机参数\n",
    "ctr = vis.get_view_control()\n",
    "param = ctr.convert_to_pinhole_camera_parameters()\n",
    "\n",
    "# 设置相机内参（例如，焦距、主点等）\n",
    "param.intrinsic.set_intrinsics(width=800, height=600, fx=400, fy=400, cx=400, cy=300)\n",
    "\n",
    "# 设置相机外参（例如，相机的位置和朝向）\n",
    "param.extrinsic = o3d.core.Tensor([[1, 0, 0, 0], \n",
    "                                   [0, 1, 0, 0], \n",
    "                                   [0, 0, 1, -3], \n",
    "                                   [0, 0, 0, 1]])\n",
    "\n",
    "# 应用新的相机参数\n",
    "ctr.convert_from_pinhole_camera_parameters(param)\n",
    "\n",
    "# 运行可视化\n",
    "vis.run()\n",
    "\n",
    "# 关闭窗口\n",
    "vis.destroy_window()\n"
   ]
  },
  {
   "cell_type": "markdown",
   "metadata": {},
   "source": []
  }
 ],
 "metadata": {
  "kernelspec": {
   "display_name": "py312for3D",
   "language": "python",
   "name": "python3"
  },
  "language_info": {
   "codemirror_mode": {
    "name": "ipython",
    "version": 3
   },
   "file_extension": ".py",
   "mimetype": "text/x-python",
   "name": "python",
   "nbconvert_exporter": "python",
   "pygments_lexer": "ipython3",
   "version": "3.12.5"
  }
 },
 "nbformat": 4,
 "nbformat_minor": 2
}
