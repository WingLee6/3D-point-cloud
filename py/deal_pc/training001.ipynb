{
 "cells": [
  {
   "cell_type": "markdown",
   "metadata": {},
   "source": [
    "# 〇. 写在前面\n",
    "## 0.1 参考来源\n",
    "1. https://blog.csdn.net/weixin_46098577/article/details/120167360"
   ]
  },
  {
   "cell_type": "code",
   "execution_count": 29,
   "metadata": {},
   "outputs": [],
   "source": [
    "import open3d as o3d\n",
    "import numpy as np\n",
    "import pythreejs as p3\n",
    "from IPython.display import display"
   ]
  },
  {
   "cell_type": "code",
   "execution_count": 28,
   "metadata": {},
   "outputs": [],
   "source": [
    "import os\n",
    "import sys\n",
    "# 获取当前Notebook所在目录\n",
    "current_dir = os.path.dirname(os.path.abspath('__file__'))\n",
    "\n",
    "# 构造自建库路径\n",
    "lib_path = os.path.join(current_dir, '../../utils_lee')\n",
    "# 将自建库路径添加到系统路径中\n",
    "sys.path.append(lib_path)\n",
    "\n",
    "# from image_utils import ImageUtils\n",
    "# from file_utils import FileUtils\n",
    "from point_cloud_utils import PointCloudUtils"
   ]
  },
  {
   "cell_type": "code",
   "execution_count": 8,
   "metadata": {},
   "outputs": [
    {
     "data": {
      "application/vnd.jupyter.widget-view+json": {
       "model_id": "8a2fdd61df634bce938d7b386f663c50",
       "version_major": 2,
       "version_minor": 0
      },
      "text/plain": [
       "Renderer(camera=PerspectiveCamera(aspect=2.25, fov=75.0, position=(0.0, 0.0, 3.0), projectionMatrix=(1.0, 0.0,…"
      ]
     },
     "metadata": {},
     "output_type": "display_data"
    }
   ],
   "source": [
    "PointCloudUtils.render_point_cloud_with_axes(file_path=\"./bumpy_plane_test_4.ply\", point_size=0.0001, canvas_dimensions=(900, 400), show_light=True)"
   ]
  },
  {
   "cell_type": "markdown",
   "metadata": {},
   "source": [
    "# 〇. 点云文件地址"
   ]
  },
  {
   "cell_type": "code",
   "execution_count": 21,
   "metadata": {},
   "outputs": [],
   "source": [
    "ply1_path = \"./artifact19.ply\"\n",
    "ply1_pcd = o3d.io.read_point_cloud(ply1_path)\n",
    "\n",
    "ply2_path = \"./bumpy_plane_test_4.ply\"\n",
    "ply2_pcd = o3d.io.read_point_cloud(ply2_path)\n",
    "\n",
    "off_path = \"./bookshelf_0574.off\""
   ]
  },
  {
   "cell_type": "markdown",
   "metadata": {},
   "source": [
    "# 一. 点云可视化\n",
    "## `o3d.visualization.draw_geometries` \n",
    "\n",
    "### 基本用法\n",
    "\n",
    "```python\n",
    "o3d.visualization.draw_geometries([geometry0, geometry1, ...], window_name='Open3D', width=800, height=600, point_show_normal=False, mesh_show_wireframe=False, mesh_show_back_face=False)\n",
    "```\n",
    "\n",
    "### 参数说明\n",
    "| 参数名称 | 类型 | 描述 | 默认值 |\n",
    "| :--: | :--: | :--: | :--: |\n",
    "| geometries | list of `o3d.geometry.Geometry3D` | 包含要可视化的3D几何体的列表。可以是点云、网格等。 | 无（必须提供） |\n",
    "| window_name | str | 显示窗口的名称。 | 'Open3D' |\n",
    "| width | int | 窗口的宽度（以像素为单位）。 | 800 |\n",
    "| height | int | 窗口的高度（以像素为单位）。 | 600 |\n",
    "| point_show_normal | bool | 如果为True，则在点云中显示每个点的法线。 | False |\n",
    "| mesh_show_wireframe | bool | 如果为True，则在网格上绘制线框。 | False |\n",
    "| mesh_show_back_face | bool | 如果为True，则渲染网格的背面。 | False |"
   ]
  },
  {
   "cell_type": "code",
   "execution_count": 3,
   "metadata": {},
   "outputs": [
    {
     "name": "stdout",
     "output_type": "stream",
     "text": [
      "PointCloud with 187114 points.\n"
     ]
    }
   ],
   "source": [
    "import open3d as o3d\n",
    "\n",
    "# 读取PLY文件\n",
    "ply_file = ply1_path\n",
    "point_cloud = o3d.io.read_point_cloud(ply_file)\n",
    "\n",
    "# 打印点云数据\n",
    "print(point_cloud)\n",
    "# 可视化点云\n",
    "o3d.visualization.draw_geometries([point_cloud])\n",
    "\n",
    "# 保存可见表面点云为ply文件\n",
    "# o3d.io.write_point_cloud(\"visible_surface.ply\", point_cloud)"
   ]
  },
  {
   "cell_type": "code",
   "execution_count": 17,
   "metadata": {},
   "outputs": [
    {
     "ename": "TypeError",
     "evalue": "(): incompatible function arguments. The following argument types are supported:\n    1. (self: open3d.cpu.pybind.camera.PinholeCameraParameters, arg0: numpy.ndarray[numpy.float64[4, 4]]) -> None\n\nInvoked with: PinholeCameraParameters class.\nAccess its data via intrinsic and extrinsic., [[1 0 0 0],\n [0 1 0 0],\n [0 0 1 -3],\n [0 0 0 1]]\nTensor[shape={4, 4}, stride={4, 1}, Int64, CPU:0, 0x12a6f1710]",
     "output_type": "error",
     "traceback": [
      "\u001b[0;31m---------------------------------------------------------------------------\u001b[0m",
      "\u001b[0;31mTypeError\u001b[0m                                 Traceback (most recent call last)",
      "Cell \u001b[0;32mIn[17], line 22\u001b[0m\n\u001b[1;32m     19\u001b[0m param\u001b[38;5;241m.\u001b[39mintrinsic\u001b[38;5;241m.\u001b[39mset_intrinsics(width\u001b[38;5;241m=\u001b[39m\u001b[38;5;241m800\u001b[39m, height\u001b[38;5;241m=\u001b[39m\u001b[38;5;241m600\u001b[39m, fx\u001b[38;5;241m=\u001b[39m\u001b[38;5;241m400\u001b[39m, fy\u001b[38;5;241m=\u001b[39m\u001b[38;5;241m400\u001b[39m, cx\u001b[38;5;241m=\u001b[39m\u001b[38;5;241m400\u001b[39m, cy\u001b[38;5;241m=\u001b[39m\u001b[38;5;241m300\u001b[39m)\n\u001b[1;32m     21\u001b[0m \u001b[38;5;66;03m# 设置相机外参（例如，相机的位置和朝向）\u001b[39;00m\n\u001b[0;32m---> 22\u001b[0m \u001b[43mparam\u001b[49m\u001b[38;5;241;43m.\u001b[39;49m\u001b[43mextrinsic\u001b[49m \u001b[38;5;241m=\u001b[39m o3d\u001b[38;5;241m.\u001b[39mcore\u001b[38;5;241m.\u001b[39mTensor([[\u001b[38;5;241m1\u001b[39m, \u001b[38;5;241m0\u001b[39m, \u001b[38;5;241m0\u001b[39m, \u001b[38;5;241m0\u001b[39m], \n\u001b[1;32m     23\u001b[0m                                    [\u001b[38;5;241m0\u001b[39m, \u001b[38;5;241m1\u001b[39m, \u001b[38;5;241m0\u001b[39m, \u001b[38;5;241m0\u001b[39m], \n\u001b[1;32m     24\u001b[0m                                    [\u001b[38;5;241m0\u001b[39m, \u001b[38;5;241m0\u001b[39m, \u001b[38;5;241m1\u001b[39m, \u001b[38;5;241m-\u001b[39m\u001b[38;5;241m3\u001b[39m], \n\u001b[1;32m     25\u001b[0m                                    [\u001b[38;5;241m0\u001b[39m, \u001b[38;5;241m0\u001b[39m, \u001b[38;5;241m0\u001b[39m, \u001b[38;5;241m1\u001b[39m]])\n\u001b[1;32m     27\u001b[0m \u001b[38;5;66;03m# 应用新的相机参数\u001b[39;00m\n\u001b[1;32m     28\u001b[0m ctr\u001b[38;5;241m.\u001b[39mconvert_from_pinhole_camera_parameters(param)\n",
      "\u001b[0;31mTypeError\u001b[0m: (): incompatible function arguments. The following argument types are supported:\n    1. (self: open3d.cpu.pybind.camera.PinholeCameraParameters, arg0: numpy.ndarray[numpy.float64[4, 4]]) -> None\n\nInvoked with: PinholeCameraParameters class.\nAccess its data via intrinsic and extrinsic., [[1 0 0 0],\n [0 1 0 0],\n [0 0 1 -3],\n [0 0 0 1]]\nTensor[shape={4, 4}, stride={4, 1}, Int64, CPU:0, 0x12a6f1710]"
     ]
    }
   ],
   "source": [
    "import open3d as o3d\n",
    "\n",
    "# 创建一个点云\n",
    "pcd = o3d.geometry.PointCloud()\n",
    "pcd.points = o3d.utility.Vector3dVector([[0, 0, 0], [1, 0, 0], [0, 1, 0]])\n",
    "\n",
    "# 创建 Visualizer\n",
    "vis = o3d.visualization.Visualizer()\n",
    "vis.create_window()\n",
    "\n",
    "# 添加点云到 Visualizer\n",
    "vis.add_geometry(pcd)\n",
    "\n",
    "# 获取相机参数\n",
    "ctr = vis.get_view_control()\n",
    "param = ctr.convert_to_pinhole_camera_parameters()\n",
    "\n",
    "# 设置相机内参（例如，焦距、主点等）\n",
    "param.intrinsic.set_intrinsics(width=800, height=600, fx=400, fy=400, cx=400, cy=300)\n",
    "\n",
    "# 设置相机外参（例如，相机的位置和朝向）\n",
    "param.extrinsic = o3d.core.Tensor([[1, 0, 0, 0], \n",
    "                                   [0, 1, 0, 0], \n",
    "                                   [0, 0, 1, -3], \n",
    "                                   [0, 0, 0, 1]])\n",
    "\n",
    "# 应用新的相机参数\n",
    "ctr.convert_from_pinhole_camera_parameters(param)\n",
    "\n",
    "# 运行可视化\n",
    "vis.run()\n",
    "\n",
    "# 关闭窗口\n",
    "vis.destroy_window()\n"
   ]
  },
  {
   "cell_type": "markdown",
   "metadata": {},
   "source": [
    "# 二. 下采样"
   ]
  },
  {
   "cell_type": "code",
   "execution_count": 9,
   "metadata": {},
   "outputs": [
    {
     "name": "stdout",
     "output_type": "stream",
     "text": [
      "->正在加载点云... \n",
      "PointCloud with 187114 points.\n",
      "->正在体素下采样...\n",
      "PointCloud with 109 points.\n",
      "->正在可视化下采样点云\n"
     ]
    }
   ],
   "source": [
    "import open3d as o3d\n",
    "import numpy as np\n",
    "\n",
    "print(\"->正在加载点云... \")\n",
    "pcd = o3d.io.read_point_cloud(ply1_path)\n",
    "print(pcd)\n",
    "\n",
    "print(\"->正在可视化原始点云\")\n",
    "o3d.visualization.draw_geometries([pcd])\n",
    "\n",
    "print(\"->正在体素下采样...\")\n",
    "voxel_size = 0.5\n",
    "downpcd = pcd.voxel_down_sample(voxel_size)\n",
    "print(downpcd)\n",
    "\n",
    "print(\"->正在可视化下采样点云\")\n",
    "o3d.visualization.draw_geometries([downpcd])\n"
   ]
  },
  {
   "cell_type": "markdown",
   "metadata": {},
   "source": [
    "# x.空间变换"
   ]
  },
  {
   "cell_type": "markdown",
   "metadata": {},
   "source": [
    "## x.1 平移"
   ]
  },
  {
   "cell_type": "markdown",
   "metadata": {},
   "source": [
    "### x.1.1 上下左右平移"
   ]
  },
  {
   "cell_type": "code",
   "execution_count": 12,
   "metadata": {},
   "outputs": [
    {
     "name": "stdout",
     "output_type": "stream",
     "text": [
      "->正在加载点云... \n",
      "PointCloud with 187114 points.\n",
      "pcd质心: [-0.11644541  0.04417858 -1.29565716]\n",
      "\n",
      "->沿X轴平移0.2m\n",
      "PointCloud with 187114 points.\n",
      "pcd_tx质心: [ 0.08355459  0.04417858 -1.29565716]\n",
      "\n",
      "->沿Y轴平移0.2m\n",
      "PointCloud with 187114 points.\n",
      "pcd_ty质心: [ 0.08355459  0.24417858 -1.29565716]\n",
      "\n",
      "->沿X轴平移-0.2m, 再沿Y轴平移0.2m\n",
      "PointCloud with 187114 points.\n",
      "pcd_txy质心:  [-1.11644541  0.24417858 -1.29565716]\n"
     ]
    }
   ],
   "source": [
    "import copy  # 点云深拷贝\n",
    "import open3d as o3d\n",
    "\n",
    "# -------------------------- 加载点云 ------------------------\n",
    "print(\"->正在加载点云... \")\n",
    "pcd = o3d.io.read_point_cloud(ply1_path)\n",
    "print(pcd)\n",
    "print(f'pcd质心: {pcd.get_center()}')\n",
    "# ===========================================================\n",
    "\n",
    "# -------------------------- 点云平移 ------------------------\n",
    "print(\"\\n->沿X轴平移0.2m\")\n",
    "pcd_tx = copy.deepcopy(pcd).translate((0.2, 0, 0))\n",
    "pcd_tx.paint_uniform_color([1, 0, 0])\n",
    "print(pcd_tx)\n",
    "print(f'pcd_tx质心: {pcd_tx.get_center()}')\n",
    "\n",
    "print(\"\\n->沿Y轴平移0.2m\")\n",
    "pcd_ty = copy.deepcopy(pcd_tx).translate((0, 0.2, 0))\n",
    "pcd_ty.paint_uniform_color([0, 1, 0])\n",
    "print(pcd_ty)\n",
    "print(f'pcd_ty质心: {pcd_ty.get_center()}')\n",
    "\n",
    "print(\"\\n->沿X轴平移-0.2m, 再沿Y轴平移0.2m\")\n",
    "pcd_txy = copy.deepcopy(pcd).translate((-1, 0.2, 0))\n",
    "pcd_txy.paint_uniform_color([0, 0, 1])\n",
    "print(pcd_txy)\n",
    "print('pcd_txy质心: ', pcd_txy.get_center())\n",
    "# ===========================================================\n",
    "\n",
    "# -------------------------- 可视化 --------------------------\n",
    "o3d.visualization.draw_geometries([pcd, pcd_tx, pcd_ty, pcd_txy])\n",
    "# ===========================================================\n"
   ]
  },
  {
   "cell_type": "markdown",
   "metadata": {},
   "source": [
    "### x.1.2 将点云质心平移到指定位置"
   ]
  },
  {
   "cell_type": "code",
   "execution_count": 14,
   "metadata": {},
   "outputs": [
    {
     "name": "stdout",
     "output_type": "stream",
     "text": [
      "->正在加载点云... \n",
      "PointCloud with 187114 points.\n",
      "pcd质心: [-0.11644541  0.04417858 -1.29565716]\n",
      "\n",
      "->沿X轴平移0.2m\n",
      "PointCloud with 187114 points.\n",
      "pcd_tx质心: [ 0.08355459  0.24417858 -1.09565716]\n",
      "\n",
      "->将点云质心平移到指定位置\n",
      "PointCloud with 187114 points.\n",
      "pcd_new: [10. 10. 10.]\n"
     ]
    }
   ],
   "source": [
    "import copy  # 点云深拷贝\n",
    "import open3d as o3d\n",
    "\n",
    "# -------------------------- 加载点云 ------------------------\n",
    "print(\"->正在加载点云... \")\n",
    "pcd = o3d.io.read_point_cloud(ply1_path)\n",
    "print(pcd)\n",
    "print(f'pcd质心: {pcd.get_center()}')\n",
    "# ===========================================================\n",
    "\n",
    "# -------------------------- 点云平移 ------------------------\n",
    "print(\"\\n->沿X轴平移0.2m\")\n",
    "pcd_tx = copy.deepcopy(pcd).translate((0.2, 0.2, 0.2))\n",
    "pcd_tx.paint_uniform_color([1, 0, 0])\n",
    "print(pcd_tx)\n",
    "print(f'pcd_tx质心: {pcd_tx.get_center()}')\n",
    "\n",
    "print(\"\\n->将点云质心平移到指定位置\")\n",
    "pcd_new = copy.deepcopy(pcd_tx).translate((10, 10, 10),relative=False)\n",
    "pcd_new.paint_uniform_color([0, 1, 0])\n",
    "print(pcd_new)\n",
    "print(f'pcd_new: {pcd_new.get_center()}')\n",
    "# ===========================================================\n",
    "\n",
    "# -------------------------- 可视化 --------------------------\n",
    "o3d.visualization.draw_geometries([pcd, pcd_tx, pcd_new])\n",
    "# ===========================================================\n"
   ]
  },
  {
   "cell_type": "markdown",
   "metadata": {},
   "source": [
    "## x.2 旋转"
   ]
  },
  {
   "cell_type": "code",
   "execution_count": 22,
   "metadata": {},
   "outputs": [],
   "source": [
    "import open3d as o3d\n",
    "import numpy as np\n",
    "import copy\n",
    "\n",
    "# 生成旋转矩阵 (这里以绕 Z 轴旋转 90 度为例)\n",
    "R = ply2_pcd.get_rotation_matrix_from_xyz((0, 0, np.pi / 2))\n",
    "\n",
    "# 复制并旋转点云\n",
    "pcd_new = copy.deepcopy(ply2_pcd).rotate(R, center=(0, 0, 0))\n",
    "\n",
    "# 可视化原点云和旋转后的点云\n",
    "o3d.visualization.draw_geometries([ply2_pcd, pcd_new], window_name=\"点云旋转\", width=800, height=600)\n"
   ]
  },
  {
   "cell_type": "markdown",
   "metadata": {},
   "source": [
    "### x.2.1 用欧垃角"
   ]
  },
  {
   "cell_type": "code",
   "execution_count": 40,
   "metadata": {},
   "outputs": [
    {
     "name": "stdout",
     "output_type": "stream",
     "text": [
      "Initial alignment\n",
      "PointCloud with 10000 points.\n",
      "RegistrationResult with fitness=1.000000e+00, inlier_rmse=9.879593e-16, and correspondence_set size of 10000\n",
      "Access transformation to get result.\n"
     ]
    },
    {
     "data": {
      "application/vnd.jupyter.widget-view+json": {
       "model_id": "cc018bdaa4ca4d18bae458cab0271df9",
       "version_major": 2,
       "version_minor": 0
      },
      "text/plain": [
       "Renderer(camera=PerspectiveCamera(aspect=2.25, fov=75.0, position=(0.0, 0.0, 3.0), projectionMatrix=(1.0, 0.0,…"
      ]
     },
     "metadata": {},
     "output_type": "display_data"
    },
    {
     "data": {
      "application/vnd.jupyter.widget-view+json": {
       "model_id": "9448c88535d846c59113e2562db34aca",
       "version_major": 2,
       "version_minor": 0
      },
      "text/plain": [
       "Renderer(camera=PerspectiveCamera(aspect=2.25, fov=75.0, position=(0.0, 0.0, 3.0), projectionMatrix=(1.0, 0.0,…"
      ]
     },
     "metadata": {},
     "output_type": "display_data"
    },
    {
     "data": {
      "application/vnd.jupyter.widget-view+json": {
       "model_id": "d932716a47d94c239e57d138f0a45680",
       "version_major": 2,
       "version_minor": 0
      },
      "text/plain": [
       "Renderer(camera=PerspectiveCamera(aspect=2.25, fov=75.0, position=(0.0, 0.0, 3.0), projectionMatrix=(1.0, 0.0,…"
      ]
     },
     "metadata": {},
     "output_type": "display_data"
    },
    {
     "ename": "",
     "evalue": "",
     "output_type": "error",
     "traceback": [
      "\u001b[1;31m在当前单元格或上一个单元格中执行代码时 Kernel 崩溃。\n",
      "\u001b[1;31m请查看单元格中的代码，以确定故障的可能原因。\n",
      "\u001b[1;31m单击<a href='https://aka.ms/vscodeJupyterKernelCrash'>此处</a>了解详细信息。\n",
      "\u001b[1;31m有关更多详细信息，请查看 Jupyter <a href='command:jupyter.viewOutput'>log</a>。"
     ]
    }
   ],
   "source": [
    "# -*- coding: utf-8 -*-\n",
    "\"\"\"\n",
    "Created on Sat Apr 16 08:51:41 2022\n",
    "@author: https://blog.csdn.net/suiyingy\n",
    "\"\"\"\n",
    "# from mayavi import mlab\n",
    "import numpy as np\n",
    "import open3d as o3d\n",
    " \n",
    "def ply_read(file_path):\n",
    "    lines = []\n",
    "    with open(file_path, 'r') as f:\n",
    "        lines = f.readlines()\n",
    "    return lines\n",
    " \n",
    " \n",
    "#将每一行数据分割后转为数字\n",
    "def ls2n(line):\n",
    "    line = line.strip().split(' ')\n",
    "    return list(map(float, line))\n",
    " \n",
    " \n",
    "def viz_mayavi_3(points1, points2, points3):\n",
    "    PointCloudUtils.render_point_cloud_with_axes(points_array=points1, point_size=0.0001, canvas_dimensions=(900, 400), show_light=True)\n",
    "    PointCloudUtils.render_point_cloud_with_axes(points_array=points2, point_size=0.0001, canvas_dimensions=(900, 400), show_light=True)\n",
    "    PointCloudUtils.render_point_cloud_with_axes(points_array=points3, point_size=0.0001, canvas_dimensions=(900, 400), show_light=True)\n",
    "       \n",
    "if __name__ == '__main__':\n",
    "    file_path = 'bumpy_plane_test_4.ply'\n",
    "    points1 = PointCloudUtils.load_point_cloud(file_path='./bumpy_plane_test_4.ply')[\"points\"]\n",
    "   \n",
    "    file_path = 'bumpy_plane_test_4.ply'\n",
    "    points2 = PointCloudUtils.load_point_cloud(file_path='./bumpy_plane_test_4.ply')[\"points\"]\n",
    "   \n",
    "    threshold = 0.5 #距离阈值\n",
    "    trans_init = np.array([[1.0, 0.0, 0.0, 0.0],\n",
    "                           [0.0, 1.0, 0.0, 0.0],\n",
    "                           [0.0, 0.0, 1.0, 0],\n",
    "                           [0.0, 0.0, 0.0,   1.0]])\n",
    "    #计算两个重要指标，fitness计算重叠区域（内点对应关系/目标点数）。越高越好。\n",
    "    #inlier_rmse计算所有内在对应关系的均方根误差RMSE。越低越好。\n",
    "    source = o3d.geometry.PointCloud()\n",
    "    source.points = o3d.utility.Vector3dVector(points1)\n",
    "    target = o3d.geometry.PointCloud()\n",
    "    target.points = o3d.utility.Vector3dVector(points2)\n",
    "\n",
    "   # 初始对齐\n",
    "    print(\"Initial alignment\")\n",
    "    print(source)\n",
    "    icp = o3d.pipelines.registration.registration_icp(\n",
    "        source, target, threshold, trans_init,\n",
    "        o3d.pipelines.registration.TransformationEstimationPointToPoint())\n",
    "    print(icp)\n",
    "\n",
    "    # 应用变换\n",
    "    source.transform(icp.transformation)\n",
    "    points3 = np.array(source.points)\n",
    "\n",
    "    # 可视化结果\n",
    "    viz_mayavi_3(points1, points2, points3)\n",
    "\n"
   ]
  },
  {
   "cell_type": "code",
   "execution_count": null,
   "metadata": {},
   "outputs": [],
   "source": []
  }
 ],
 "metadata": {
  "kernelspec": {
   "display_name": "py312for3D",
   "language": "python",
   "name": "python3"
  },
  "language_info": {
   "codemirror_mode": {
    "name": "ipython",
    "version": 3
   },
   "file_extension": ".py",
   "mimetype": "text/x-python",
   "name": "python",
   "nbconvert_exporter": "python",
   "pygments_lexer": "ipython3",
   "version": "3.12.5"
  }
 },
 "nbformat": 4,
 "nbformat_minor": 2
}
