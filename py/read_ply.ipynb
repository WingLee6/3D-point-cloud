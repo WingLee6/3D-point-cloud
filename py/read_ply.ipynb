{
 "cells": [
  {
   "cell_type": "code",
   "execution_count": 5,
   "metadata": {},
   "outputs": [
    {
     "name": "stdout",
     "output_type": "stream",
     "text": [
      "PointCloud with 253513 points.\n"
     ]
    }
   ],
   "source": [
    "import open3d as o3d\n",
    "\n",
    "# 读取PLY文件\n",
    "ply_file = \"./create_point_cloud_datasets/point_clouds_simulated/smooth/smooth_plane_50.ply\"\n",
    "ply_file = \"./a/shortRange_depth_RGB.ply\"\n",
    "# ply_file = \"./a/shortRange_depth_RGB_motionTexture灰度_shading1.ply\"\n",
    "# ply_file = \"./a/shortRange_depth_RGB_motionTexture灰度_shading2_measure222.ply\"\n",
    "point_cloud = o3d.io.read_point_cloud(ply_file)\n",
    "\n",
    "# 打印点云数据\n",
    "print(point_cloud)\n"
   ]
  },
  {
   "cell_type": "code",
   "execution_count": 6,
   "metadata": {},
   "outputs": [
    {
     "data": {
      "text/plain": [
       "True"
      ]
     },
     "execution_count": 6,
     "metadata": {},
     "output_type": "execute_result"
    }
   ],
   "source": [
    "# 可视化点云\n",
    "o3d.visualization.draw_geometries([point_cloud])\n",
    "\n",
    "# 保存可见表面点云为ply文件\n",
    "o3d.io.write_point_cloud(\"visible_surface.ply\", point_cloud)\n"
   ]
  }
 ],
 "metadata": {
  "kernelspec": {
   "display_name": "py312for3D",
   "language": "python",
   "name": "python3"
  },
  "language_info": {
   "codemirror_mode": {
    "name": "ipython",
    "version": 3
   },
   "file_extension": ".py",
   "mimetype": "text/x-python",
   "name": "python",
   "nbconvert_exporter": "python",
   "pygments_lexer": "ipython3",
   "version": "3.12.5"
  }
 },
 "nbformat": 4,
 "nbformat_minor": 2
}
