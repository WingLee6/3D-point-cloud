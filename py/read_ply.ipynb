{
 "cells": [
  {
   "cell_type": "code",
   "execution_count": 14,
   "metadata": {},
   "outputs": [
    {
     "name": "stdout",
     "output_type": "stream",
     "text": [
      "PointCloud with 278689 points.\n"
     ]
    }
   ],
   "source": [
    "import open3d as o3d\n",
    "\n",
    "# 读取PLY文件\n",
    "ply_file = \"./create_point_cloud_datasets/point_clouds_simulated/smooth/smooth_plane_50.ply\"\n",
    "ply_file = \"./a/shortRange_depth.ply\"\n",
    "# ply_file = \"./a/shortRange_depth_RGB.ply\"\n",
    "# ply_file = \"./a/shortRange_depth_RGB_motionTexture灰度_shading1.ply\"\n",
    "# ply_file = \"./a/shortRange_depth_RGB_motionTexture灰度_shading2_measure222.ply\"\n",
    "# ply_file = \"./a/shortRange_depth_RGB_motionTexture灰度_shading2_measure222.ply\"\n",
    "# ply_file = \"./a/shortRange_depth_RGB_motionTexture灰度_shading2_measure222.ply\"\n",
    "# ply_file = \"./a/shortRange_depth_RGB_motionTexture灰度_shading2_measure222.ply\"\n",
    "# ply_file = \"./a/shortRange_depth_RGB_motionTexture灰度_shading2_measure222.ply\"\n",
    "# ply_file = \"./新建文件夹/3-3.ply\"\n",
    "point_cloud = o3d.io.read_point_cloud(ply_file)\n",
    "\n",
    "# 打印点云数据\n",
    "print(point_cloud)\n"
   ]
  },
  {
   "cell_type": "code",
   "execution_count": 15,
   "metadata": {},
   "outputs": [
    {
     "data": {
      "text/plain": [
       "(array([[-0.26611328,  0.20336914, -0.36499023],\n",
       "        [-0.26513672,  0.203125  , -0.36474609],\n",
       "        [-0.26367188,  0.20275879, -0.36401367],\n",
       "        [-0.25878906,  0.19958496, -0.35839844],\n",
       "        [-0.25756836,  0.19921875, -0.35766602]]),\n",
       " array([[0.        , 0.10588235, 0.99607843],\n",
       "        [0.        , 0.10588235, 0.99607843],\n",
       "        [0.        , 0.09803922, 0.99607843],\n",
       "        [0.        , 0.09803922, 0.99607843],\n",
       "        [0.        , 0.09411765, 0.99607843]]))"
      ]
     },
     "execution_count": 15,
     "metadata": {},
     "output_type": "execute_result"
    }
   ],
   "source": [
    "import numpy as np\n",
    "\n",
    "np.asarray(point_cloud.points)[:5], np.asarray(point_cloud.colors)[:5], "
   ]
  },
  {
   "cell_type": "code",
   "execution_count": 17,
   "metadata": {},
   "outputs": [],
   "source": [
    "# 可视化点云\n",
    "o3d.visualization.draw_geometries([point_cloud])\n",
    "\n",
    "# 保存可见表面点云为ply文件\n",
    "# o3d.io.write_point_cloud(\"visible_surface.ply\", point_cloud)\n"
   ]
  },
  {
   "cell_type": "code",
   "execution_count": 18,
   "metadata": {},
   "outputs": [
    {
     "name": "stderr",
     "output_type": "stream",
     "text": [
      "/opt/anaconda3/envs/py312for3D/lib/python3.12/site-packages/pythreejs/traits.py:257: UserWarning: 64-bit data types not supported for WebGL data, casting to 32-bit.\n",
      "  warnings.warn('64-bit data types not supported for WebGL '\n"
     ]
    },
    {
     "data": {
      "application/vnd.jupyter.widget-view+json": {
       "model_id": "d3cf2b38eced4b8ebab459482aff38be",
       "version_major": 2,
       "version_minor": 0
      },
      "text/plain": [
       "Renderer(camera=PerspectiveCamera(aspect=1.3333333333333333, position=(1.0, 1.0, 2.0), projectionMatrix=(1.0, …"
      ]
     },
     "metadata": {},
     "output_type": "display_data"
    }
   ],
   "source": [
    "from pythreejs import BufferGeometry, BufferAttribute, Points, PointsMaterial, Scene, PerspectiveCamera, Renderer, OrbitControls\n",
    "from IPython.display import display\n",
    "\n",
    "# 创建点云几何体\n",
    "geometry = BufferGeometry(attributes={\n",
    "    'position': BufferAttribute(np.asarray(point_cloud.points), normalized=False),\n",
    "    'color': BufferAttribute(np.asarray(point_cloud.colors), normalized=False)\n",
    "})\n",
    "\n",
    "# 创建材质\n",
    "material = PointsMaterial(vertexColors='VertexColors', size=0.1)\n",
    "\n",
    "# 创建点云对象\n",
    "point_cloud = Points(geometry=geometry, material=material)\n",
    "\n",
    "# 设置场景和相机\n",
    "camera = PerspectiveCamera(position=[1, 1, 2], aspect=800/600)\n",
    "scene = Scene(children=[point_cloud, camera])\n",
    "\n",
    "# 创建渲染器并显示\n",
    "renderer = Renderer(camera=camera, scene=scene, controls=[OrbitControls(controlling=camera)], width=800, height=600)\n",
    "display(renderer)\n"
   ]
  }
 ],
 "metadata": {
  "kernelspec": {
   "display_name": "py312for3D",
   "language": "python",
   "name": "python3"
  },
  "language_info": {
   "codemirror_mode": {
    "name": "ipython",
    "version": 3
   },
   "file_extension": ".py",
   "mimetype": "text/x-python",
   "name": "python",
   "nbconvert_exporter": "python",
   "pygments_lexer": "ipython3",
   "version": "3.12.5"
  }
 },
 "nbformat": 4,
 "nbformat_minor": 2
}
